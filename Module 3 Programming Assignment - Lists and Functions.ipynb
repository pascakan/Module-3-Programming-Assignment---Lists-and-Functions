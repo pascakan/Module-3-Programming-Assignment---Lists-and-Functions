{
 "cells": [
  {
   "cell_type": "markdown",
   "id": "0c737493-1bd9-4fd6-aa39-72e1522b8392",
   "metadata": {},
   "source": [
    "## Chapter 7 - Task 7.4\n",
    "Create a list called `things` with the following elements: `\"mozzarella\"`, `\"cinderella\"`, `\"salmonella\"`."
   ]
  },
  {
   "cell_type": "code",
   "execution_count": 1,
   "id": "4bb9f37a-d8cd-481c-93dc-b162dd5f7952",
   "metadata": {},
   "outputs": [
    {
     "name": "stdout",
     "output_type": "stream",
     "text": [
      "['mozzarella', 'cinderella', 'salmonella']\n"
     ]
    }
   ],
   "source": [
    "# 7.4\n",
    "things = [\"mozzarella\", \"cinderella\", \"salmonella\"]\n",
    "print(things)"
   ]
  },
  {
   "cell_type": "markdown",
   "id": "c5ce3296-afc3-4a08-ae15-bfb1f2641494",
   "metadata": {},
   "source": [
    "## Chapter 7 - Task 7.5\n",
    "Capitalize the element in `things` that refers to a person (`\"cinderella\"`) and then print the list. \n",
    "Did it change the element in the list?"
   ]
  },
  {
   "cell_type": "code",
   "execution_count": 3,
   "id": "6d55236e-21a1-47d0-b7bd-e928b17c0fc2",
   "metadata": {},
   "outputs": [
    {
     "name": "stdout",
     "output_type": "stream",
     "text": [
      "['mozzarella', 'Cinderella', 'salmonella']\n"
     ]
    }
   ],
   "source": [
    "# 7.5\n",
    "things[1] = things[1].capitalize()\n",
    "print(things)"
   ]
  },
  {
   "cell_type": "markdown",
   "id": "e1f7413a-e3cc-4bd0-bd3e-c96b9613d264",
   "metadata": {},
   "source": [
    "## Chapter 7 - Task 7.6\n",
    "Make the cheesy element (`\"mozzarella\"`) all uppercase and then print the list."
   ]
  },
  {
   "cell_type": "code",
   "execution_count": 5,
   "id": "5768768c-b74a-4a93-9767-88b5a9e5702a",
   "metadata": {},
   "outputs": [
    {
     "name": "stdout",
     "output_type": "stream",
     "text": [
      "['MOZZARELLA', 'Cinderella', 'salmonella']\n"
     ]
    }
   ],
   "source": [
    "# 7.6\n",
    "things[0] = things[0].upper()\n",
    "print(things)"
   ]
  },
  {
   "cell_type": "markdown",
   "id": "f3f5a62c-447d-4a3a-b246-e849ddc93758",
   "metadata": {},
   "source": [
    "## Chapter 7 - Task 7.7\n",
    "Delete the disease element (`\"salmonella\"`) from the list, collect your Nobel Prize, and print the list."
   ]
  },
  {
   "cell_type": "code",
   "execution_count": 7,
   "id": "4dca2c67-cf37-427b-b7b5-c1725331d927",
   "metadata": {},
   "outputs": [
    {
     "name": "stdout",
     "output_type": "stream",
     "text": [
      "['MOZZARELLA', 'Cinderella']\n"
     ]
    }
   ],
   "source": [
    "# 7.7\n",
    "things.remove(\"salmonella\")\n",
    "print(things)"
   ]
  },
  {
   "cell_type": "markdown",
   "id": "87c2e460-9153-41d4-9ad7-85aa6670ce6b",
   "metadata": {},
   "source": [
    "## Chapter 9 - Task 9.1\n",
    "Define a function called `good()` that returns the following list: `[\"Harry\", \"Ron\", \"Hermione\"]`."
   ]
  },
  {
   "cell_type": "code",
   "execution_count": 9,
   "id": "61c6ccbc-f682-46f1-ab15-e021cafe4902",
   "metadata": {},
   "outputs": [
    {
     "name": "stdout",
     "output_type": "stream",
     "text": [
      "['Harry', 'Ron', 'Hermione']\n"
     ]
    }
   ],
   "source": [
    "def good():\n",
    "    return [\"Harry\", \"Ron\", \"Hermione\"]\n",
    "\n",
    "print(good())"
   ]
  },
  {
   "cell_type": "markdown",
   "id": "52c404b3-2747-4772-a4ec-f41dd671d7f1",
   "metadata": {},
   "source": [
    "## Chapter 9 - Task 9.2\n",
    "Define a generator function called `get_odds()` that returns the odd numbers from `range(10)`. Use a `for` loop to find and print the third value returned."
   ]
  },
  {
   "cell_type": "code",
   "execution_count": 11,
   "id": "ef11a93f-a1c3-4089-8379-a301351c336f",
   "metadata": {},
   "outputs": [
    {
     "name": "stdout",
     "output_type": "stream",
     "text": [
      "5\n"
     ]
    }
   ],
   "source": [
    "# 9.2\n",
    "def get_odds():\n",
    "    for num in range(10):\n",
    "        if num % 2 != 0:\n",
    "            yield num\n",
    "\n",
    "# Find the third value\n",
    "count = 0\n",
    "for odd in get_odds():\n",
    "    count += 1\n",
    "    if count == 3:\n",
    "        print(odd)\n",
    "        break"
   ]
  },
  {
   "cell_type": "code",
   "execution_count": null,
   "id": "a43f1c08-a466-499a-9520-216c060b3c58",
   "metadata": {},
   "outputs": [],
   "source": []
  }
 ],
 "metadata": {
  "kernelspec": {
   "display_name": "Python 3 (ipykernel)",
   "language": "python",
   "name": "python3"
  },
  "language_info": {
   "codemirror_mode": {
    "name": "ipython",
    "version": 3
   },
   "file_extension": ".py",
   "mimetype": "text/x-python",
   "name": "python",
   "nbconvert_exporter": "python",
   "pygments_lexer": "ipython3",
   "version": "3.12.7"
  }
 },
 "nbformat": 4,
 "nbformat_minor": 5
}
